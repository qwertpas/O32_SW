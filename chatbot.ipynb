{
 "cells": [
  {
   "cell_type": "code",
   "execution_count": 35,
   "metadata": {},
   "outputs": [
    {
     "name": "stdout",
     "output_type": "stream",
     "text": [
      "-1748683.7002277677 -1043381.6924147743\n",
      "\n",
      "\n",
      "1912889.2661550078 -646341.8454944437\n",
      "\n",
      "\n",
      "-581509.4315573258 405913.90895860054\n",
      "\n",
      "\n",
      "-369594.2000827617 666987.5837830548\n",
      "\n",
      "\n",
      "769402.7783816324 796358.7192921881\n",
      "\n",
      "\n",
      "456671.3187041372 1732795.185063443\n",
      "\n",
      "\n",
      "-401002.56719339255 750601.5342997258\n",
      "\n",
      "\n",
      "931352.4977920518 497928.6578574687\n",
      "\n",
      "\n",
      "-1341046.692587545 -541157.8682975682\n",
      "\n",
      "\n",
      "-675341.1352090633 484162.3496359032\n",
      "\n",
      "\n"
     ]
    }
   ],
   "source": [
    "import numpy as np\n",
    "from numpy import log10, ceil, floor\n",
    "\n",
    "np.set_printoptions(precision=2, suppress=True)\n",
    "\n",
    "def find_nice_range(xmin, xmax):\n",
    "    n = ceil(log10((xmax-xmin)/(5*10)))\n",
    "    # print(\"n: \", n) \n",
    "\n",
    "    s = (xmax-xmin)/10**(n+1)\n",
    "    if s <= 1:\n",
    "        s = 1\n",
    "    elif s <= 2:\n",
    "        s = 2\n",
    "    else:\n",
    "        s = 5\n",
    "    # print(\"s: \", s)\n",
    "\n",
    "    print((xmax-xmin)/(s*10**n))\n",
    "    step = s*10**n\n",
    "    bot = floor(xmin/step)*step\n",
    "    # print(\"bot: \", bot)\n",
    "    return np.arange(bot, xmax+step, step)\n",
    "\n",
    "for i in range(10):\n",
    "    x1 = np.random.normal(0, 1e6)\n",
    "    x2 = np.random.normal(0, 1e6)\n",
    "    print(x1, x2)\n",
    "    if(x1 < x2):\n",
    "        print(find_nice_range(x1, x2))\n",
    "        # pass\n",
    "    else:\n",
    "        print(find_nice_range(x2, x1))\n",
    "        # pass\n",
    "    print(\"\\n\")"
   ]
  },
  {
   "cell_type": "code",
   "execution_count": 8,
   "metadata": {},
   "outputs": [
    {
     "data": {
      "text/plain": [
       "1"
      ]
     },
     "execution_count": 8,
     "metadata": {},
     "output_type": "execute_result"
    }
   ],
   "source": [
    "\n"
   ]
  },
  {
   "cell_type": "code",
   "execution_count": null,
   "metadata": {},
   "outputs": [],
   "source": []
  }
 ],
 "metadata": {
  "kernelspec": {
   "display_name": ".venv",
   "language": "python",
   "name": "python3"
  },
  "language_info": {
   "codemirror_mode": {
    "name": "ipython",
    "version": 3
   },
   "file_extension": ".py",
   "mimetype": "text/x-python",
   "name": "python",
   "nbconvert_exporter": "python",
   "pygments_lexer": "ipython3",
   "version": "3.10.11"
  },
  "orig_nbformat": 4
 },
 "nbformat": 4,
 "nbformat_minor": 2
}
