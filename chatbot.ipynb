{
 "cells": [
  {
   "cell_type": "code",
   "execution_count": 100,
   "metadata": {},
   "outputs": [
    {
     "name": "stdout",
     "output_type": "stream",
     "text": [
      "19.31591336148032\n",
      "21\n",
      "\n",
      "\n",
      "7.113390964780244\n",
      "9\n",
      "\n",
      "\n",
      "16.17856584351409\n",
      "18\n",
      "\n",
      "\n",
      "16.905278373173985\n",
      "19\n",
      "\n",
      "\n",
      "6.315332537259629\n",
      "9\n",
      "\n",
      "\n",
      "12.516959513026727\n",
      "14\n",
      "\n",
      "\n",
      "7.8105629935285865\n",
      "10\n",
      "\n",
      "\n",
      "17.4641489784738\n",
      "20\n",
      "\n",
      "\n",
      "9.824236598312032\n",
      "12\n",
      "\n",
      "\n",
      "6.171158398040302\n",
      "8\n",
      "\n",
      "\n"
     ]
    }
   ],
   "source": [
    "import numpy as np\n",
    "from numpy import log10, ceil, floor\n",
    "\n",
    "np.set_printoptions(precision=2, suppress=True)\n",
    "\n",
    "def find_nice_range(xmin, xmax):\n",
    "    n = ceil(log10((xmax-xmin)/(5*20)))\n",
    "    # print(\"n: \", n) \n",
    "\n",
    "    s = (xmax-xmin)/10**(n+1)\n",
    "    if s <= 1:\n",
    "        s = 1\n",
    "    elif s <= 2:\n",
    "        s = 2\n",
    "    else:\n",
    "        s = 5\n",
    "    # print(\"s: \", s)\n",
    "\n",
    "    print((xmax-xmin)/(s*10**n))\n",
    "    step = s*10**n\n",
    "    bot = floor(xmin/step)*step\n",
    "    # print(\"bot: \", bot)\n",
    "    return np.arange(bot, xmax+step, step)\n",
    "\n",
    "for i in range(10):\n",
    "    x1 = np.random.normal(0, 1e6)\n",
    "    x2 = np.random.normal(0, 1e6)\n",
    "    # print(x1, x2)\n",
    "    if(x1 < x2):\n",
    "        print(len(find_nice_range(x1, x2)))\n",
    "        # pass\n",
    "    else:\n",
    "        print(len(find_nice_range(x2, x1)))\n",
    "        # pass\n",
    "    print(\"\\n\")"
   ]
  },
  {
   "cell_type": "code",
   "execution_count": 8,
   "metadata": {},
   "outputs": [
    {
     "data": {
      "text/plain": [
       "1"
      ]
     },
     "execution_count": 8,
     "metadata": {},
     "output_type": "execute_result"
    }
   ],
   "source": [
    "\n"
   ]
  },
  {
   "cell_type": "code",
   "execution_count": null,
   "metadata": {},
   "outputs": [],
   "source": []
  }
 ],
 "metadata": {
  "kernelspec": {
   "display_name": ".venv",
   "language": "python",
   "name": "python3"
  },
  "language_info": {
   "codemirror_mode": {
    "name": "ipython",
    "version": 3
   },
   "file_extension": ".py",
   "mimetype": "text/x-python",
   "name": "python",
   "nbconvert_exporter": "python",
   "pygments_lexer": "ipython3",
   "version": "3.10.11"
  },
  "orig_nbformat": 4
 },
 "nbformat": 4,
 "nbformat_minor": 2
}
